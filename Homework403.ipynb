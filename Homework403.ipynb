{
 "cells": [
  {
   "cell_type": "code",
   "execution_count": 4,
   "id": "a44cb758-9fcd-4ad2-aa26-ec368efe8b8f",
   "metadata": {},
   "outputs": [],
   "source": [
    "import numpy as np\n",
    "import pandas as pd\n",
    "\n",
    "from sklearn.decomposition import PCA\n",
    "\n",
    "import seaborn as sns\n",
    "import matplotlib.pyplot as plt"
   ]
  },
  {
   "cell_type": "markdown",
   "id": "83afebc9-9b08-4aea-83e2-407620e6d3f5",
   "metadata": {},
   "source": [
    "PCA in python – NOAA Buoys\n",
    "We’ll be using the data from a NOAA buoy off the coast of California.\n",
    "Perform PCA on these data to find the maximum possible principal components,\n",
    "considering the following variables: wave height, dominant wave period, average wave\n",
    "period, the direction from which the waves at the dominant period are coming, and\n",
    "sea surface temperature.\n",
    "\n",
    "\n",
    "Plot PC1 vs PC2.\n",
    "\n",
    "How many principal components are needed to capture most of the variability\n",
    "in the dataset?\n",
    "- Honestly it seems like only 2. PCA1 accounts for ~99% and then PCA2 for 0.5%.\n",
    "\n",
    "What variables contribute most to the important PCs?\n",
    "\n",
    "- It looks like dominant wave direction contributes heavily to pc1 and dominant wave period contributes most to pc2.\n",
    "\n",
    "What does the good or bad performance of a linear dimensionality reduction\n",
    "method tell you about this dataset? \n",
    "\n",
    "- From what I understand, good performance of pca implies that the original data has a good amount of correlation between some/ all of its variables such that fewer features/ principle components can still represent the gist of the original data. I think the pca works pretty well on this data because with 2-3 principle components, pc1 accounts for 99% of the variability. "
   ]
  },
  {
   "cell_type": "code",
   "execution_count": 18,
   "id": "d7b8905f-6980-4701-8a3e-5b4a3af47463",
   "metadata": {},
   "outputs": [],
   "source": [
    "# (you get a garbage fit, ie all of them have basically similar value as a principle componentm or you get a \n",
    "# good fit where one is way better, so what does it mean if you can get a good or bad linear fit)"
   ]
  },
  {
   "cell_type": "code",
   "execution_count": 19,
   "id": "136e1ccc-bcce-437a-8412-c5eb91764f8a",
   "metadata": {},
   "outputs": [],
   "source": [
    "# make array of buoy data \n",
    "# all data goes into the array since we're not predicting anything rn "
   ]
  },
  {
   "cell_type": "code",
   "execution_count": 20,
   "id": "db3e2151-4e65-4916-8672-d02ffa10b13a",
   "metadata": {},
   "outputs": [],
   "source": [
    "buoy = pd.read_csv('/Users/katherinemottola/Desktop/important/school/GEOL599/3_06_24/buoy.txt', delim_whitespace = True)"
   ]
  },
  {
   "cell_type": "code",
   "execution_count": 21,
   "id": "b9141dee-de3b-4810-8d03-e30efda561ee",
   "metadata": {},
   "outputs": [],
   "source": [
    "cols = ['WVHT','DPD','APD','MWD','WTMP']\n",
    "\n",
    "buoy = buoy[cols]\n",
    "\n",
    "buoy.columns = ['Wave Height','Dominant Wave Period','Average Wave Period','Dom Direction','SST']\n",
    "\n",
    "# using 5 variables so max pcas is 5"
   ]
  },
  {
   "cell_type": "code",
   "execution_count": 44,
   "id": "021b646a-ead6-4d5a-9f47-aeeb6f0cd14b",
   "metadata": {},
   "outputs": [
    {
     "data": {
      "text/html": [
       "<div>\n",
       "<style scoped>\n",
       "    .dataframe tbody tr th:only-of-type {\n",
       "        vertical-align: middle;\n",
       "    }\n",
       "\n",
       "    .dataframe tbody tr th {\n",
       "        vertical-align: top;\n",
       "    }\n",
       "\n",
       "    .dataframe thead th {\n",
       "        text-align: right;\n",
       "    }\n",
       "</style>\n",
       "<table border=\"1\" class=\"dataframe\">\n",
       "  <thead>\n",
       "    <tr style=\"text-align: right;\">\n",
       "      <th></th>\n",
       "      <th>Wave Height</th>\n",
       "      <th>Dominant Wave Period</th>\n",
       "      <th>Average Wave Period</th>\n",
       "      <th>Dom Direction</th>\n",
       "      <th>SST</th>\n",
       "    </tr>\n",
       "  </thead>\n",
       "  <tbody>\n",
       "    <tr>\n",
       "      <th>0</th>\n",
       "      <td>1.12</td>\n",
       "      <td>12.50</td>\n",
       "      <td>7.69</td>\n",
       "      <td>269</td>\n",
       "      <td>15.3</td>\n",
       "    </tr>\n",
       "    <tr>\n",
       "      <th>1</th>\n",
       "      <td>1.16</td>\n",
       "      <td>11.76</td>\n",
       "      <td>7.34</td>\n",
       "      <td>272</td>\n",
       "      <td>15.3</td>\n",
       "    </tr>\n",
       "    <tr>\n",
       "      <th>2</th>\n",
       "      <td>1.20</td>\n",
       "      <td>12.50</td>\n",
       "      <td>7.08</td>\n",
       "      <td>268</td>\n",
       "      <td>15.3</td>\n",
       "    </tr>\n",
       "    <tr>\n",
       "      <th>3</th>\n",
       "      <td>1.25</td>\n",
       "      <td>10.53</td>\n",
       "      <td>7.33</td>\n",
       "      <td>268</td>\n",
       "      <td>15.4</td>\n",
       "    </tr>\n",
       "    <tr>\n",
       "      <th>4</th>\n",
       "      <td>1.27</td>\n",
       "      <td>10.53</td>\n",
       "      <td>7.57</td>\n",
       "      <td>268</td>\n",
       "      <td>15.5</td>\n",
       "    </tr>\n",
       "    <tr>\n",
       "      <th>...</th>\n",
       "      <td>...</td>\n",
       "      <td>...</td>\n",
       "      <td>...</td>\n",
       "      <td>...</td>\n",
       "      <td>...</td>\n",
       "    </tr>\n",
       "    <tr>\n",
       "      <th>17280</th>\n",
       "      <td>2.01</td>\n",
       "      <td>14.29</td>\n",
       "      <td>11.19</td>\n",
       "      <td>270</td>\n",
       "      <td>16.7</td>\n",
       "    </tr>\n",
       "    <tr>\n",
       "      <th>17281</th>\n",
       "      <td>1.75</td>\n",
       "      <td>15.38</td>\n",
       "      <td>10.37</td>\n",
       "      <td>267</td>\n",
       "      <td>16.7</td>\n",
       "    </tr>\n",
       "    <tr>\n",
       "      <th>17282</th>\n",
       "      <td>1.79</td>\n",
       "      <td>13.33</td>\n",
       "      <td>10.50</td>\n",
       "      <td>268</td>\n",
       "      <td>16.8</td>\n",
       "    </tr>\n",
       "    <tr>\n",
       "      <th>17283</th>\n",
       "      <td>1.66</td>\n",
       "      <td>14.29</td>\n",
       "      <td>10.32</td>\n",
       "      <td>271</td>\n",
       "      <td>16.8</td>\n",
       "    </tr>\n",
       "    <tr>\n",
       "      <th>17284</th>\n",
       "      <td>1.70</td>\n",
       "      <td>12.50</td>\n",
       "      <td>10.54</td>\n",
       "      <td>271</td>\n",
       "      <td>16.9</td>\n",
       "    </tr>\n",
       "  </tbody>\n",
       "</table>\n",
       "<p>17285 rows × 5 columns</p>\n",
       "</div>"
      ],
      "text/plain": [
       "       Wave Height  Dominant Wave Period  Average Wave Period  Dom Direction  \\\n",
       "0             1.12                 12.50                 7.69            269   \n",
       "1             1.16                 11.76                 7.34            272   \n",
       "2             1.20                 12.50                 7.08            268   \n",
       "3             1.25                 10.53                 7.33            268   \n",
       "4             1.27                 10.53                 7.57            268   \n",
       "...            ...                   ...                  ...            ...   \n",
       "17280         2.01                 14.29                11.19            270   \n",
       "17281         1.75                 15.38                10.37            267   \n",
       "17282         1.79                 13.33                10.50            268   \n",
       "17283         1.66                 14.29                10.32            271   \n",
       "17284         1.70                 12.50                10.54            271   \n",
       "\n",
       "        SST  \n",
       "0      15.3  \n",
       "1      15.3  \n",
       "2      15.3  \n",
       "3      15.4  \n",
       "4      15.5  \n",
       "...     ...  \n",
       "17280  16.7  \n",
       "17281  16.7  \n",
       "17282  16.8  \n",
       "17283  16.8  \n",
       "17284  16.9  \n",
       "\n",
       "[17285 rows x 5 columns]"
      ]
     },
     "execution_count": 44,
     "metadata": {},
     "output_type": "execute_result"
    }
   ],
   "source": [
    "buoy"
   ]
  },
  {
   "cell_type": "code",
   "execution_count": 75,
   "id": "728f2bfc-f182-4b38-ad21-ee60103b73c2",
   "metadata": {},
   "outputs": [],
   "source": [
    "check99 = ['Wave Height','Dominant Wave Period','Average Wave Period','SST']\n",
    "\n",
    "buoy = buoy[(buoy['Wave Height'] <= 66)]\n",
    "buoy = buoy[(buoy['Dominant Wave Period'] <= 66)]\n",
    "buoy = buoy[(buoy['Average Wave Period'] <= 66)]\n",
    "buoy = buoy[(buoy['SST'] <= 66)]\n",
    "\n",
    "#then check direction for 999 bc 3 dig\n",
    "buoy = buoy[buoy['Dom Direction']<=666]"
   ]
  },
  {
   "cell_type": "code",
   "execution_count": 97,
   "id": "75088e56-2d2b-4da7-ba49-139f298c3a4a",
   "metadata": {},
   "outputs": [],
   "source": [
    "features = ['Wave Height','Dominant Wave Period','Average Wave Period','Dom Direction','SST']"
   ]
  },
  {
   "cell_type": "code",
   "execution_count": 77,
   "id": "2319633e-4707-4649-bc32-60d5f30881a2",
   "metadata": {},
   "outputs": [
    {
     "data": {
      "text/plain": [
       "array([[  1.12,  12.5 ,   7.69, 269.  ,  15.3 ],\n",
       "       [  1.16,  11.76,   7.34, 272.  ,  15.3 ],\n",
       "       [  1.2 ,  12.5 ,   7.08, 268.  ,  15.3 ],\n",
       "       ...,\n",
       "       [  1.79,  13.33,  10.5 , 268.  ,  16.8 ],\n",
       "       [  1.66,  14.29,  10.32, 271.  ,  16.8 ],\n",
       "       [  1.7 ,  12.5 ,  10.54, 271.  ,  16.9 ]])"
      ]
     },
     "execution_count": 77,
     "metadata": {},
     "output_type": "execute_result"
    }
   ],
   "source": [
    "X = buoy[['Wave Height','Dominant Wave Period','Average Wave Period','Dom Direction', 'SST']].copy()\n",
    "X = X.to_numpy()\n",
    "X"
   ]
  },
  {
   "cell_type": "code",
   "execution_count": 78,
   "id": "33791065-f627-4d5d-b6dc-82d9f5642846",
   "metadata": {},
   "outputs": [
    {
     "name": "stdout",
     "output_type": "stream",
     "text": [
      "[9.90777521e-01 5.67156404e-03 2.48887556e-03 9.73144741e-04\n",
      " 8.88946139e-05]\n"
     ]
    }
   ],
   "source": [
    "pca5 = PCA(n_components=5)\n",
    "pca5.fit(X)\n",
    "print(pca5.explained_variance_ratio_)"
   ]
  },
  {
   "cell_type": "code",
   "execution_count": 79,
   "id": "883a0daa-6755-4384-b065-00627049b9af",
   "metadata": {},
   "outputs": [
    {
     "name": "stdout",
     "output_type": "stream",
     "text": [
      "[9.90777521e-01 5.67156404e-03 2.48887556e-03 9.73144741e-04]\n"
     ]
    }
   ],
   "source": [
    "pca4 = PCA(n_components=4)\n",
    "pca4.fit(X)\n",
    "print(pca4.explained_variance_ratio_)"
   ]
  },
  {
   "cell_type": "code",
   "execution_count": 80,
   "id": "a019354c-8203-4ab9-af3b-4bf112f3b263",
   "metadata": {},
   "outputs": [
    {
     "name": "stdout",
     "output_type": "stream",
     "text": [
      "[0.99077752 0.00567156 0.00248888]\n"
     ]
    }
   ],
   "source": [
    "pca3 = PCA(n_components=3)\n",
    "pca3.fit(X)\n",
    "print(pca3.explained_variance_ratio_)"
   ]
  },
  {
   "cell_type": "code",
   "execution_count": 81,
   "id": "106bee94-41a3-4c69-8521-e7fcf6c5fa1e",
   "metadata": {},
   "outputs": [
    {
     "name": "stdout",
     "output_type": "stream",
     "text": [
      "[[0.00414966 0.03483275 0.00632252 0.99911854 0.02217264]\n",
      " [0.02817253 0.92292703 0.35324348 0.02653793 0.14807698]\n",
      " [0.03730158 0.14552072 0.03477188 0.02692689 0.98767311]]\n"
     ]
    }
   ],
   "source": [
    "print(np.abs(pca3.components_))"
   ]
  },
  {
   "cell_type": "code",
   "execution_count": 90,
   "id": "edf6d928-bdaa-412f-b800-93985d9344b3",
   "metadata": {},
   "outputs": [
    {
     "name": "stdout",
     "output_type": "stream",
     "text": [
      "[0.99077752 0.00567156]\n"
     ]
    }
   ],
   "source": [
    "pca2 = PCA(n_components=2)\n",
    "pca2.fit(X)\n",
    "print(pca2.explained_variance_ratio_)"
   ]
  },
  {
   "cell_type": "code",
   "execution_count": 82,
   "id": "1c6503e6-43d2-4468-9499-0c663282caf5",
   "metadata": {},
   "outputs": [],
   "source": [
    "plotData5 = pca5.transform(X)"
   ]
  },
  {
   "cell_type": "code",
   "execution_count": 83,
   "id": "de881366-4ae2-49ee-821a-a04834855e57",
   "metadata": {},
   "outputs": [
    {
     "data": {
      "text/plain": [
       "array([[-3.48462047e+01, -1.88830218e+00,  8.49056649e-01,\n",
       "         5.17319217e-02, -1.50007507e-01],\n",
       "       [-3.78672897e+01, -1.16244165e+00,  8.89623549e-01,\n",
       "        -5.99581235e-02, -8.87557303e-02],\n",
       "       [-3.38435614e+01, -1.64853953e+00,  9.00178509e-01,\n",
       "        -4.84736362e-01,  9.07929857e-03],\n",
       "       ...,\n",
       "       [-3.38054626e+01, -3.41716798e+00, -7.99025252e-01,\n",
       "         2.50130397e+00,  2.33069517e-01],\n",
       "       [-3.67677012e+01, -4.31554546e+00, -1.01809607e+00,\n",
       "         1.92380578e+00,  1.46676320e-01],\n",
       "       [-3.68293916e+01, -2.72753885e+00, -8.62539037e-01,\n",
       "         2.76846855e+00,  1.17076888e-01]])"
      ]
     },
     "execution_count": 83,
     "metadata": {},
     "output_type": "execute_result"
    }
   ],
   "source": [
    "plotData5"
   ]
  },
  {
   "cell_type": "code",
   "execution_count": 84,
   "id": "29ff94b2-8e06-45dc-b316-cd4bfe1bd0be",
   "metadata": {},
   "outputs": [],
   "source": [
    "plotData3 = pca3.transform(X)"
   ]
  },
  {
   "cell_type": "code",
   "execution_count": 85,
   "id": "cb667b6c-8202-40ac-9e4a-aa0d604a6285",
   "metadata": {},
   "outputs": [
    {
     "data": {
      "text/plain": [
       "array([[-34.84620471,  -1.88830218,   0.84905665],\n",
       "       [-37.86728968,  -1.16244165,   0.88962355],\n",
       "       [-33.84356141,  -1.64853953,   0.90017851],\n",
       "       ...,\n",
       "       [-33.80546258,  -3.41716798,  -0.79902525],\n",
       "       [-36.76770125,  -4.31554546,  -1.01809607],\n",
       "       [-36.82939155,  -2.72753885,  -0.86253904]])"
      ]
     },
     "execution_count": 85,
     "metadata": {},
     "output_type": "execute_result"
    }
   ],
   "source": [
    "plotData3"
   ]
  },
  {
   "cell_type": "code",
   "execution_count": 100,
   "id": "180f36bb-71cf-40ff-b5f7-0400ad47658c",
   "metadata": {},
   "outputs": [],
   "source": [
    "pc1 = plotData3[:, 0]\n",
    "pc2 = plotData3[:, 1]"
   ]
  },
  {
   "cell_type": "code",
   "execution_count": 98,
   "id": "baf18d06-dbef-466f-a994-9aa27b8e5f1c",
   "metadata": {},
   "outputs": [
    {
     "name": "stdout",
     "output_type": "stream",
     "text": [
      "Principal Component 1:\n",
      "Variable: Wave Height, Contribution: -0.0041496605221641525\n",
      "Variable: Dominant Wave Period, Contribution: 0.03483275370277147\n",
      "Variable: Average Wave Period, Contribution: -0.006322518505972102\n",
      "Variable: Dom Direction, Contribution: -0.9991185412023922\n",
      "Variable: SST, Contribution: 0.02217264017608838\n",
      "\n",
      "Principal Component 2:\n",
      "Variable: Wave Height, Contribution: -0.028172533786606783\n",
      "Variable: Dominant Wave Period, Contribution: -0.9229270282455232\n",
      "Variable: Average Wave Period, Contribution: -0.35324347766392294\n",
      "Variable: Dom Direction, Contribution: -0.02653792943084376\n",
      "Variable: SST, Contribution: 0.14807698221989388\n",
      "\n",
      "Principal Component 3:\n",
      "Variable: Wave Height, Contribution: 0.03730158163449267\n",
      "Variable: Dominant Wave Period, Contribution: -0.14552072455572906\n",
      "Variable: Average Wave Period, Contribution: -0.03477187990282411\n",
      "Variable: Dom Direction, Contribution: -0.026926885997944676\n",
      "Variable: SST, Contribution: -0.9876731088324809\n",
      "\n"
     ]
    }
   ],
   "source": [
    "# components is an attribute lol\n",
    "components = pca3.components_\n",
    "\n",
    "# \n",
    "num_pc = pca3.n_components_\n",
    "num_features = X.shape[1]\n",
    "\n",
    "for pc_idx in range(num_pc):\n",
    "    print(f\"Principal Component {pc_idx + 1}:\")\n",
    "    for feature_idx in range(num_features):\n",
    "        feature_name = features[feature_idx]\n",
    "        print(f\"Variable: {feature_name}, Contribution: {components[pc_idx, feature_idx]}\")\n",
    "    print()\n"
   ]
  },
  {
   "cell_type": "code",
   "execution_count": 99,
   "id": "0a52c520-097c-4298-b295-80c08a70c050",
   "metadata": {},
   "outputs": [
    {
     "data": {
      "text/plain": [
       "array([[0.00414966, 0.03483275, 0.00632252, 0.99911854, 0.02217264],\n",
       "       [0.02817253, 0.92292703, 0.35324348, 0.02653793, 0.14807698],\n",
       "       [0.03730158, 0.14552072, 0.03477188, 0.02692689, 0.98767311]])"
      ]
     },
     "execution_count": 99,
     "metadata": {},
     "output_type": "execute_result"
    }
   ],
   "source": [
    "np.abs(components)"
   ]
  },
  {
   "cell_type": "code",
   "execution_count": 101,
   "id": "9322db67-63a3-47d6-a987-8c13a80cbe48",
   "metadata": {},
   "outputs": [
    {
     "data": {
      "text/plain": [
       "Text(0, 0.5, 'PC2')"
      ]
     },
     "execution_count": 101,
     "metadata": {},
     "output_type": "execute_result"
    },
    {
     "data": {
      "image/png": "[encoded data removed]",
      "text/plain": [
       "<Figure size 640x480 with 1 Axes>"
      ]
     },
     "metadata": {},
     "output_type": "display_data"
    }
   ],
   "source": [
    "sns.scatterplot(x=pc1, y=pc2)\n",
    "\n",
    "plt.xlabel('PC1')\n",
    "plt.ylabel('PC2')"
   ]
  },
  {
   "cell_type": "markdown",
   "id": "de35fe5d-c6dd-4977-94f0-ec510dd3779a",
   "metadata": {},
   "source": []
  }
 ],
 "metadata": {
  "kernelspec": {
   "display_name": "Python 3 (ipykernel)",
   "language": "python",
   "name": "python3"
  },
  "language_info": {
   "codemirror_mode": {
    "name": "ipython",
    "version": 3
   },
   "file_extension": ".py",
   "mimetype": "text/x-python",
   "name": "python",
   "nbconvert_exporter": "python",
   "pygments_lexer": "ipython3",
   "version": "3.11.4"
  }
 },
 "nbformat": 4,
 "nbformat_minor": 5
}
