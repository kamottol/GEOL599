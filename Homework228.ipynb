{
 "cells": [
  {
   "cell_type": "code",
   "execution_count": 1,
   "id": "0ff8e25e-bed9-49fb-8c3c-93e9edcb7220",
   "metadata": {},
   "outputs": [],
   "source": [
    "\n",
    "import pandas as pd\n",
    "import numpy as np\n",
    "from matplotlib import pyplot as plt\n",
    "import seaborn as sns\n",
    "from sklearn import linear_model\n",
    "from sklearn.linear_model import RidgeClassifier\n",
    "\n",
    "from sklearn.metrics import mean_squared_error\n",
    "from sklearn.model_selection import train_test_split\n",
    "from sklearn.linear_model import LogisticRegression\n"
   ]
  },
  {
   "cell_type": "markdown",
   "id": "9b9822a9-ed02-4e51-9d36-4fe8abb6307b",
   "metadata": {},
   "source": [
    "What cost (error) function are you using?\n",
    "\n",
    "- According to google, RidgeClassifier from sklearn uses least linear squares\n",
    "\n",
    "What is the optimal ridge penalty parameter (alpha) based on training data?\n",
    "\n",
    "- alpha = 0.1\n",
    "   \n",
    "What is the optimal ridge penalty parameter on your validation data?\n",
    "   \n",
    "- alpha = 0.0\n",
    "\n",
    "What is your final model error? (Be sure to report the most honest error\n",
    "assessment).\n",
    "\n",
    "- Assuming the error is just 100-score for the test set, the most honest model error is about 0.78. When I repeat the train test split steps like it says in the next question, this varies. But for this 'round' it was about .22, or 22% error.\n",
    "\n",
    "- Also, every time I restart my kernel and rerun cells I get different score values so if the scores are different than what I wrote down in the little notes to myself in the code i promise i was telling the truth at the time that i wrote them!\n",
    "\n",
    "If you redo your train/validation splits, do you get the same answers?\n",
    "\n",
    "- I get the same optimal ridge penalties but the values for the actual scores/ errors vary. \n",
    "\n",
    "Compare the ridge classifier with a logistic regression model. Which one\n",
    "performs the best?\n",
    "\n",
    "- Logistic regression gets about the same test score as RidgeClassifier. If I restart the kernel one or the other may be above by 0.01-0.02 but they look to be very similar. "
   ]
  },
  {
   "cell_type": "code",
   "execution_count": 2,
   "id": "cd336d49-b284-44f8-84fe-df19174c2125",
   "metadata": {},
   "outputs": [],
   "source": [
    "dataa = \"/Users/katherinemottola/Desktop/important/school/GEOL599/1_24_24/LA_AQS_2023.csv\" #note on path\n",
    "\n",
    "df = pd.read_csv(dataa) #Read it in and store it in a variable!"
   ]
  },
  {
   "cell_type": "markdown",
   "id": "443bbe73-4115-4ec9-8d99-e0e249943b90",
   "metadata": {},
   "source": [
    "Note - o3 is in ppm, no2 is in ppb, and pm2.5 is in micrograms/cubic meter (LC)"
   ]
  },
  {
   "cell_type": "markdown",
   "id": "92894988-c687-416d-a72c-f3feb1166b29",
   "metadata": {},
   "source": [
    "# prepping data"
   ]
  },
  {
   "cell_type": "code",
   "execution_count": 3,
   "id": "dd3735b2-0dd7-48b8-a902-996ee3b1219c",
   "metadata": {},
   "outputs": [],
   "source": [
    "## want to make a df with ozone, no2, and pm2.5\n",
    "\n",
    "# ozone\n",
    "\n",
    "dfo3 = df[(df['Parameter Name']=='Ozone') & (df['Duration Description']=='1 HOUR')]\n",
    "\n",
    "# make a variable of only the mean \n",
    "mean_o3 = dfo3[\"Arithmetic Mean\"]\n",
    "\n",
    "# now make a dataframe where its ONLY the columns of date and ozone \n",
    "\n",
    "dfo3 = pd.DataFrame(data = {\"O3\" : mean_o3, 'date' : dfo3[\"Date (Local)\"]})"
   ]
  },
  {
   "cell_type": "code",
   "execution_count": 4,
   "id": "95b390bf-0776-4fb1-a7a8-561c81ab2c63",
   "metadata": {},
   "outputs": [],
   "source": [
    "# no2\n",
    "\n",
    "dfno2 = df[(df['Parameter Name']=='Nitrogen dioxide (NO2)') & (df['Duration Description']=='1 HOUR')]\n",
    "\n",
    "# make a variable of only the mean \n",
    "mean_no2 = dfno2[\"Arithmetic Mean\"]\n",
    "\n",
    "# only date and mean \n",
    "dfno2 = pd.DataFrame(data = {\"NO2\" : mean_no2, 'date' : dfno2[\"Date (Local)\"]})"
   ]
  },
  {
   "cell_type": "code",
   "execution_count": 5,
   "id": "c469e34a-367d-4568-ab7f-580c53ef7055",
   "metadata": {},
   "outputs": [],
   "source": [
    "# pm25\n",
    "\n",
    "dfpm = df[(df['Parameter Name']=='PM2.5 - Local Conditions') & (df['Duration Description']=='1 HOUR')]\n",
    "\n",
    "# make a variable of only the mean \n",
    "mean_pm = dfpm[\"Arithmetic Mean\"]\n",
    "\n",
    "# only date and mean \n",
    "dfpm = pd.DataFrame(data = {\"PM2.5\" : mean_pm, 'date' : dfpm[\"Date (Local)\"]})"
   ]
  },
  {
   "cell_type": "code",
   "execution_count": 6,
   "id": "6d6d9ee4-4a08-407b-845a-e79f98c0b1fc",
   "metadata": {},
   "outputs": [
    {
     "data": {
      "text/html": [
       "<div>\n",
       "<style scoped>\n",
       "    .dataframe tbody tr th:only-of-type {\n",
       "        vertical-align: middle;\n",
       "    }\n",
       "\n",
       "    .dataframe tbody tr th {\n",
       "        vertical-align: top;\n",
       "    }\n",
       "\n",
       "    .dataframe thead th {\n",
       "        text-align: right;\n",
       "    }\n",
       "</style>\n",
       "<table border=\"1\" class=\"dataframe\">\n",
       "  <thead>\n",
       "    <tr style=\"text-align: right;\">\n",
       "      <th></th>\n",
       "      <th>O3</th>\n",
       "      <th>date</th>\n",
       "      <th>NO2</th>\n",
       "    </tr>\n",
       "  </thead>\n",
       "  <tbody>\n",
       "    <tr>\n",
       "      <th>0</th>\n",
       "      <td>0.031708</td>\n",
       "      <td>2023-01-01</td>\n",
       "      <td>4.816667</td>\n",
       "    </tr>\n",
       "    <tr>\n",
       "      <th>1</th>\n",
       "      <td>0.031708</td>\n",
       "      <td>2023-01-01</td>\n",
       "      <td>4.550000</td>\n",
       "    </tr>\n",
       "    <tr>\n",
       "      <th>2</th>\n",
       "      <td>0.031708</td>\n",
       "      <td>2023-01-01</td>\n",
       "      <td>4.550000</td>\n",
       "    </tr>\n",
       "    <tr>\n",
       "      <th>3</th>\n",
       "      <td>0.031708</td>\n",
       "      <td>2023-01-01</td>\n",
       "      <td>4.816667</td>\n",
       "    </tr>\n",
       "    <tr>\n",
       "      <th>4</th>\n",
       "      <td>0.015792</td>\n",
       "      <td>2023-01-02</td>\n",
       "      <td>14.720833</td>\n",
       "    </tr>\n",
       "  </tbody>\n",
       "</table>\n",
       "</div>"
      ],
      "text/plain": [
       "         O3        date        NO2\n",
       "0  0.031708  2023-01-01   4.816667\n",
       "1  0.031708  2023-01-01   4.550000\n",
       "2  0.031708  2023-01-01   4.550000\n",
       "3  0.031708  2023-01-01   4.816667\n",
       "4  0.015792  2023-01-02  14.720833"
      ]
     },
     "execution_count": 6,
     "metadata": {},
     "output_type": "execute_result"
    }
   ],
   "source": [
    "# now wanna merge the no2 to this, then pm2.5. do it in steps\n",
    "# no2 first \n",
    "\n",
    "df_o3_no2 = dfo3.merge(dfno2, on=['date'])\n",
    "\n",
    "df_o3_no2.head()"
   ]
  },
  {
   "cell_type": "code",
   "execution_count": 7,
   "id": "7cb3a9ad-be8a-4d34-b5c3-6df51fb3c2c7",
   "metadata": {},
   "outputs": [
    {
     "data": {
      "text/html": [
       "<div>\n",
       "<style scoped>\n",
       "    .dataframe tbody tr th:only-of-type {\n",
       "        vertical-align: middle;\n",
       "    }\n",
       "\n",
       "    .dataframe tbody tr th {\n",
       "        vertical-align: top;\n",
       "    }\n",
       "\n",
       "    .dataframe thead th {\n",
       "        text-align: right;\n",
       "    }\n",
       "</style>\n",
       "<table border=\"1\" class=\"dataframe\">\n",
       "  <thead>\n",
       "    <tr style=\"text-align: right;\">\n",
       "      <th></th>\n",
       "      <th>O3</th>\n",
       "      <th>date</th>\n",
       "      <th>NO2</th>\n",
       "      <th>PM2.5</th>\n",
       "    </tr>\n",
       "  </thead>\n",
       "  <tbody>\n",
       "    <tr>\n",
       "      <th>0</th>\n",
       "      <td>0.031708</td>\n",
       "      <td>2023-01-01</td>\n",
       "      <td>4.816667</td>\n",
       "      <td>5.0875</td>\n",
       "    </tr>\n",
       "    <tr>\n",
       "      <th>1</th>\n",
       "      <td>0.031708</td>\n",
       "      <td>2023-01-01</td>\n",
       "      <td>4.550000</td>\n",
       "      <td>5.0875</td>\n",
       "    </tr>\n",
       "    <tr>\n",
       "      <th>2</th>\n",
       "      <td>0.031708</td>\n",
       "      <td>2023-01-01</td>\n",
       "      <td>4.550000</td>\n",
       "      <td>5.0875</td>\n",
       "    </tr>\n",
       "    <tr>\n",
       "      <th>3</th>\n",
       "      <td>0.031708</td>\n",
       "      <td>2023-01-01</td>\n",
       "      <td>4.816667</td>\n",
       "      <td>5.0875</td>\n",
       "    </tr>\n",
       "    <tr>\n",
       "      <th>4</th>\n",
       "      <td>0.015792</td>\n",
       "      <td>2023-01-02</td>\n",
       "      <td>14.720833</td>\n",
       "      <td>9.1875</td>\n",
       "    </tr>\n",
       "  </tbody>\n",
       "</table>\n",
       "</div>"
      ],
      "text/plain": [
       "         O3        date        NO2   PM2.5\n",
       "0  0.031708  2023-01-01   4.816667  5.0875\n",
       "1  0.031708  2023-01-01   4.550000  5.0875\n",
       "2  0.031708  2023-01-01   4.550000  5.0875\n",
       "3  0.031708  2023-01-01   4.816667  5.0875\n",
       "4  0.015792  2023-01-02  14.720833  9.1875"
      ]
     },
     "execution_count": 7,
     "metadata": {},
     "output_type": "execute_result"
    }
   ],
   "source": [
    "# now pm2.5\n",
    "\n",
    "df_all = df_o3_no2.merge(dfpm, on=['date'])\n",
    "\n",
    "df_all.head()"
   ]
  },
  {
   "cell_type": "code",
   "execution_count": 8,
   "id": "df6f9eb2-e7d7-4128-87bd-e9ba8e7b89b9",
   "metadata": {},
   "outputs": [
    {
     "data": {
      "text/plain": [
       "array([1, 1, 1, ..., 9, 9, 9], dtype=int32)"
      ]
     },
     "execution_count": 8,
     "metadata": {},
     "output_type": "execute_result"
    }
   ],
   "source": [
    "# get months from \n",
    "\n",
    "months = pd.DatetimeIndex(df_all['date']).month.values\n",
    "months"
   ]
  },
  {
   "cell_type": "code",
   "execution_count": 9,
   "id": "a23befd4-c2c4-42e8-9538-0993147e6761",
   "metadata": {},
   "outputs": [],
   "source": [
    "# now make an array w the same dimensions but where all values are 0 to start with\n",
    "# in the end itll just basically show whether or not its summer \n",
    "\n",
    "# this makes the array thing\n",
    "qsummer = months - months \n",
    "\n",
    "# june july august months, summer = 1\n",
    "qsummer[months == 6] = 1 \n",
    "qsummer[months == 7] = 1\n",
    "qsummer[months == 8] = 1\n",
    "\n",
    "# march april may, spring is -1 which means we get rid of it\n",
    "qsummer[months == 3] = -1 \n",
    "qsummer[months == 4] = -1\n",
    "qsummer[months == 5] = -1\n",
    "\n",
    "# also get rid of fall by making it -1\n",
    "qsummer[months == 9] = -1 \n",
    "qsummer[months == 10] = -1\n",
    "qsummer[months == 11] = -1\n",
    "\n",
    "# this automatically makes winter = 0 bc we're leaving it as-is"
   ]
  },
  {
   "cell_type": "code",
   "execution_count": 10,
   "id": "7f4ef2bb-aae9-4804-9556-53305d87f40c",
   "metadata": {},
   "outputs": [],
   "source": [
    "df_all['summer'] = qsummer"
   ]
  },
  {
   "cell_type": "code",
   "execution_count": 11,
   "id": "d1c5a7c4-122d-4e8f-9b88-9dd3459d2d82",
   "metadata": {},
   "outputs": [
    {
     "data": {
      "text/html": [
       "<div>\n",
       "<style scoped>\n",
       "    .dataframe tbody tr th:only-of-type {\n",
       "        vertical-align: middle;\n",
       "    }\n",
       "\n",
       "    .dataframe tbody tr th {\n",
       "        vertical-align: top;\n",
       "    }\n",
       "\n",
       "    .dataframe thead th {\n",
       "        text-align: right;\n",
       "    }\n",
       "</style>\n",
       "<table border=\"1\" class=\"dataframe\">\n",
       "  <thead>\n",
       "    <tr style=\"text-align: right;\">\n",
       "      <th></th>\n",
       "      <th>O3</th>\n",
       "      <th>date</th>\n",
       "      <th>NO2</th>\n",
       "      <th>PM2.5</th>\n",
       "      <th>summer</th>\n",
       "    </tr>\n",
       "  </thead>\n",
       "  <tbody>\n",
       "    <tr>\n",
       "      <th>0</th>\n",
       "      <td>0.031708</td>\n",
       "      <td>2023-01-01</td>\n",
       "      <td>4.816667</td>\n",
       "      <td>5.0875</td>\n",
       "      <td>0</td>\n",
       "    </tr>\n",
       "    <tr>\n",
       "      <th>1</th>\n",
       "      <td>0.031708</td>\n",
       "      <td>2023-01-01</td>\n",
       "      <td>4.550000</td>\n",
       "      <td>5.0875</td>\n",
       "      <td>0</td>\n",
       "    </tr>\n",
       "    <tr>\n",
       "      <th>2</th>\n",
       "      <td>0.031708</td>\n",
       "      <td>2023-01-01</td>\n",
       "      <td>4.550000</td>\n",
       "      <td>5.0875</td>\n",
       "      <td>0</td>\n",
       "    </tr>\n",
       "    <tr>\n",
       "      <th>3</th>\n",
       "      <td>0.031708</td>\n",
       "      <td>2023-01-01</td>\n",
       "      <td>4.816667</td>\n",
       "      <td>5.0875</td>\n",
       "      <td>0</td>\n",
       "    </tr>\n",
       "    <tr>\n",
       "      <th>4</th>\n",
       "      <td>0.015792</td>\n",
       "      <td>2023-01-02</td>\n",
       "      <td>14.720833</td>\n",
       "      <td>9.1875</td>\n",
       "      <td>0</td>\n",
       "    </tr>\n",
       "  </tbody>\n",
       "</table>\n",
       "</div>"
      ],
      "text/plain": [
       "         O3        date        NO2   PM2.5  summer\n",
       "0  0.031708  2023-01-01   4.816667  5.0875       0\n",
       "1  0.031708  2023-01-01   4.550000  5.0875       0\n",
       "2  0.031708  2023-01-01   4.550000  5.0875       0\n",
       "3  0.031708  2023-01-01   4.816667  5.0875       0\n",
       "4  0.015792  2023-01-02  14.720833  9.1875       0"
      ]
     },
     "execution_count": 11,
     "metadata": {},
     "output_type": "execute_result"
    }
   ],
   "source": [
    "df_all.head()"
   ]
  },
  {
   "cell_type": "code",
   "execution_count": 12,
   "id": "ad8caa1a-a2da-4316-9fbe-0d651a8c8a7f",
   "metadata": {},
   "outputs": [
    {
     "data": {
      "text/html": [
       "<div>\n",
       "<style scoped>\n",
       "    .dataframe tbody tr th:only-of-type {\n",
       "        vertical-align: middle;\n",
       "    }\n",
       "\n",
       "    .dataframe tbody tr th {\n",
       "        vertical-align: top;\n",
       "    }\n",
       "\n",
       "    .dataframe thead th {\n",
       "        text-align: right;\n",
       "    }\n",
       "</style>\n",
       "<table border=\"1\" class=\"dataframe\">\n",
       "  <thead>\n",
       "    <tr style=\"text-align: right;\">\n",
       "      <th></th>\n",
       "      <th>O3</th>\n",
       "      <th>NO2</th>\n",
       "      <th>PM2.5</th>\n",
       "      <th>summer</th>\n",
       "    </tr>\n",
       "  </thead>\n",
       "  <tbody>\n",
       "    <tr>\n",
       "      <th>count</th>\n",
       "      <td>604.000000</td>\n",
       "      <td>604.000000</td>\n",
       "      <td>604.000000</td>\n",
       "      <td>604.000000</td>\n",
       "    </tr>\n",
       "    <tr>\n",
       "      <th>mean</th>\n",
       "      <td>0.025534</td>\n",
       "      <td>14.908291</td>\n",
       "      <td>11.883327</td>\n",
       "      <td>0.609272</td>\n",
       "    </tr>\n",
       "    <tr>\n",
       "      <th>std</th>\n",
       "      <td>0.007501</td>\n",
       "      <td>6.819712</td>\n",
       "      <td>4.928007</td>\n",
       "      <td>0.488318</td>\n",
       "    </tr>\n",
       "    <tr>\n",
       "      <th>min</th>\n",
       "      <td>0.008333</td>\n",
       "      <td>4.250000</td>\n",
       "      <td>3.250000</td>\n",
       "      <td>0.000000</td>\n",
       "    </tr>\n",
       "    <tr>\n",
       "      <th>25%</th>\n",
       "      <td>0.022000</td>\n",
       "      <td>9.700000</td>\n",
       "      <td>8.545833</td>\n",
       "      <td>0.000000</td>\n",
       "    </tr>\n",
       "    <tr>\n",
       "      <th>50%</th>\n",
       "      <td>0.026417</td>\n",
       "      <td>13.425000</td>\n",
       "      <td>10.900000</td>\n",
       "      <td>1.000000</td>\n",
       "    </tr>\n",
       "    <tr>\n",
       "      <th>75%</th>\n",
       "      <td>0.031542</td>\n",
       "      <td>19.133333</td>\n",
       "      <td>15.266667</td>\n",
       "      <td>1.000000</td>\n",
       "    </tr>\n",
       "    <tr>\n",
       "      <th>max</th>\n",
       "      <td>0.042833</td>\n",
       "      <td>33.466667</td>\n",
       "      <td>31.979167</td>\n",
       "      <td>1.000000</td>\n",
       "    </tr>\n",
       "  </tbody>\n",
       "</table>\n",
       "</div>"
      ],
      "text/plain": [
       "               O3         NO2       PM2.5      summer\n",
       "count  604.000000  604.000000  604.000000  604.000000\n",
       "mean     0.025534   14.908291   11.883327    0.609272\n",
       "std      0.007501    6.819712    4.928007    0.488318\n",
       "min      0.008333    4.250000    3.250000    0.000000\n",
       "25%      0.022000    9.700000    8.545833    0.000000\n",
       "50%      0.026417   13.425000   10.900000    1.000000\n",
       "75%      0.031542   19.133333   15.266667    1.000000\n",
       "max      0.042833   33.466667   31.979167    1.000000"
      ]
     },
     "execution_count": 12,
     "metadata": {},
     "output_type": "execute_result"
    }
   ],
   "source": [
    "# get rid of all values where summer is = -1\n",
    "\n",
    "df_all = df_all[df_all['summer'] > -1]\n",
    "df_all.describe()"
   ]
  },
  {
   "cell_type": "code",
   "execution_count": 13,
   "id": "bbd81855-7afb-4f10-98da-15d9f07f8a65",
   "metadata": {},
   "outputs": [],
   "source": [
    "# ok. data is mostly set up now. "
   ]
  },
  {
   "cell_type": "code",
   "execution_count": 14,
   "id": "ded03ff1-747f-4fbe-866a-f30e607e2d9d",
   "metadata": {},
   "outputs": [],
   "source": [
    "# note, y should be the yes or no thing, \n",
    "# so in this case y is summer vs winter"
   ]
  },
  {
   "cell_type": "code",
   "execution_count": 15,
   "id": "aa8f8ac0-f18e-487c-8802-2200478650e2",
   "metadata": {
    "scrolled": true
   },
   "outputs": [
    {
     "data": {
      "text/plain": [
       "array([0, 0, 0, 0, 0, 0, 0, 0, 0, 0, 0, 0, 0, 0, 0, 0, 0, 0, 0, 0, 0, 0,\n",
       "       0, 0, 0, 0, 0, 0, 0, 0, 0, 0, 0, 0, 0, 0, 0, 0, 0, 0, 0, 0, 0, 0,\n",
       "       0, 0, 0, 0, 0, 0, 0, 0, 0, 0, 0, 0, 0, 0, 0, 0, 0, 0, 0, 0, 0, 0,\n",
       "       0, 0, 0, 0, 0, 0, 0, 0, 0, 0, 0, 0, 0, 0, 0, 0, 0, 0, 0, 0, 0, 0,\n",
       "       0, 0, 0, 0, 0, 0, 0, 0, 0, 0, 0, 0, 0, 0, 0, 0, 0, 0, 0, 0, 0, 0,\n",
       "       0, 0, 0, 0, 0, 0, 0, 0, 0, 0, 0, 0, 0, 0, 0, 0, 0, 0, 0, 0, 0, 0,\n",
       "       0, 0, 0, 0, 0, 0, 0, 0, 0, 0, 0, 0, 0, 0, 0, 0, 0, 0, 0, 0, 0, 0,\n",
       "       0, 0, 0, 0, 0, 0, 0, 0, 0, 0, 0, 0, 0, 0, 0, 0, 0, 0, 0, 0, 0, 0,\n",
       "       0, 0, 0, 0, 0, 0, 0, 0, 0, 0, 0, 0, 0, 0, 0, 0, 0, 0, 0, 0, 0, 0,\n",
       "       0, 0, 0, 0, 0, 0, 0, 0, 0, 0, 0, 0, 0, 0, 0, 0, 0, 0, 0, 0, 0, 0,\n",
       "       0, 0, 0, 0, 0, 0, 0, 0, 0, 0, 0, 0, 0, 0, 0, 0, 1, 1, 1, 1, 1, 1,\n",
       "       1, 1, 1, 1, 1, 1, 1, 1, 1, 1, 1, 1, 1, 1, 1, 1, 1, 1, 1, 1, 1, 1,\n",
       "       1, 1, 1, 1, 1, 1, 1, 1, 1, 1, 1, 1, 1, 1, 1, 1, 1, 1, 1, 1, 1, 1,\n",
       "       1, 1, 1, 1, 1, 1, 1, 1, 1, 1, 1, 1, 1, 1, 1, 1, 1, 1, 1, 1, 1, 1,\n",
       "       1, 1, 1, 1, 1, 1, 1, 1, 1, 1, 1, 1, 1, 1, 1, 1, 1, 1, 1, 1, 1, 1,\n",
       "       1, 1, 1, 1, 1, 1, 1, 1, 1, 1, 1, 1, 1, 1, 1, 1, 1, 1, 1, 1, 1, 1,\n",
       "       1, 1, 1, 1, 1, 1, 1, 1, 1, 1, 1, 1, 1, 1, 1, 1, 1, 1, 1, 1, 1, 1,\n",
       "       1, 1, 1, 1, 1, 1, 1, 1, 1, 1, 1, 1, 1, 1, 1, 1, 1, 1, 1, 1, 1, 1,\n",
       "       1, 1, 1, 1, 1, 1, 1, 1, 1, 1, 1, 1, 1, 1, 1, 1, 1, 1, 1, 1, 1, 1,\n",
       "       1, 1, 1, 1, 1, 1, 1, 1, 1, 1, 1, 1, 1, 1, 1, 1, 1, 1, 1, 1, 1, 1,\n",
       "       1, 1, 1, 1, 1, 1, 1, 1, 1, 1, 1, 1, 1, 1, 1, 1, 1, 1, 1, 1, 1, 1,\n",
       "       1, 1, 1, 1, 1, 1, 1, 1, 1, 1, 1, 1, 1, 1, 1, 1, 1, 1, 1, 1, 1, 1,\n",
       "       1, 1, 1, 1, 1, 1, 1, 1, 1, 1, 1, 1, 1, 1, 1, 1, 1, 1, 1, 1, 1, 1,\n",
       "       1, 1, 1, 1, 1, 1, 1, 1, 1, 1, 1, 1, 1, 1, 1, 1, 1, 1, 1, 1, 1, 1,\n",
       "       1, 1, 1, 1, 1, 1, 1, 1, 1, 1, 1, 1, 1, 1, 1, 1, 1, 1, 1, 1, 1, 1,\n",
       "       1, 1, 1, 1, 1, 1, 1, 1, 1, 1, 1, 1, 1, 1, 1, 1, 1, 1, 1, 1, 1, 1,\n",
       "       1, 1, 1, 1, 1, 1, 1, 1, 1, 1, 1, 1, 1, 1, 1, 1, 1, 1, 1, 1, 1, 1,\n",
       "       1, 1, 1, 1, 1, 1, 1, 1, 1, 1], dtype=int32)"
      ]
     },
     "execution_count": 15,
     "metadata": {},
     "output_type": "execute_result"
    }
   ],
   "source": [
    "y = df_all['summer']\n",
    "y = y.to_numpy()\n",
    "y"
   ]
  },
  {
   "cell_type": "code",
   "execution_count": 16,
   "id": "0952f840-b9e2-4e87-aaf6-71b0ff187f5d",
   "metadata": {},
   "outputs": [
    {
     "data": {
      "text/plain": [
       "array([[ 0.031708,  4.816667,  5.0875  ],\n",
       "       [ 0.031708,  4.55    ,  5.0875  ],\n",
       "       [ 0.031708,  4.55    ,  5.0875  ],\n",
       "       ...,\n",
       "       [ 0.025042, 18.208333, 19.341667],\n",
       "       [ 0.025042, 20.458333, 19.341667],\n",
       "       [ 0.025042, 20.458333, 19.341667]])"
      ]
     },
     "execution_count": 16,
     "metadata": {},
     "output_type": "execute_result"
    }
   ],
   "source": [
    "X = df_all[['O3','NO2','PM2.5']].copy()\n",
    "X = X.to_numpy()\n",
    "X"
   ]
  },
  {
   "cell_type": "markdown",
   "id": "506dfd75-efcd-4bfa-a737-061604b37c6e",
   "metadata": {},
   "source": [
    "# onto the models"
   ]
  },
  {
   "cell_type": "code",
   "execution_count": 17,
   "id": "247d5aa1-b0a4-4430-a590-4adaa99dd516",
   "metadata": {},
   "outputs": [],
   "source": [
    "# Xtrain and xtest are from the air quality variables array (X), ytrain and ytest are from months (y)\n",
    "# goal: 75 train, 15 for validate, 10 for test\n",
    "\n",
    "# have to do train test split twice"
   ]
  },
  {
   "cell_type": "markdown",
   "id": "21495ae3-d849-496c-8a55-1d7a76d63b8d",
   "metadata": {},
   "source": [
    "# first round of ridgeclassifier train test split"
   ]
  },
  {
   "cell_type": "code",
   "execution_count": 18,
   "id": "3b032265-434c-4222-ab60-e5498db65997",
   "metadata": {},
   "outputs": [],
   "source": [
    "# training and remaining instead of train and test, remaining will be what i then pull the next stuff from\n",
    "X_train, X_temp_remaining, y_train, y_temp_remaining = train_test_split(X, y, test_size=0.25)\n",
    "\n",
    "# now i can split the remaining data into the testing and validation sets\n",
    "X_test, X_val, y_test, y_val = train_test_split(X_temp_remaining, y_temp_remaining, test_size=0.4)\n",
    "\n",
    "\n",
    "# X_temp_train is training data, X_test as testing data, X_val is validation data\n",
    "# y_temp_train is training data, y_test as testing data, y_val is validation data\n"
   ]
  },
  {
   "cell_type": "code",
   "execution_count": 19,
   "id": "626204de-345e-4c95-be0a-d2a3e6855a1b",
   "metadata": {},
   "outputs": [
    {
     "name": "stdout",
     "output_type": "stream",
     "text": [
      "training accur score: 0.8498896247240618\n",
      "validation accur score: 0.819672131147541\n",
      "test accur score: 0.8333333333333334\n"
     ]
    }
   ],
   "source": [
    "month_classifier1 = RidgeClassifier(alpha=0.5)\n",
    "month_classifier1.fit(X_train, y_train)\n",
    "\n",
    "month_classifier1.score(X_train, y_train)\n",
    "train_accuracy = month_classifier1.score(X_train, y_train)\n",
    "print(\"training accur score:\", train_accuracy)\n",
    "\n",
    "y_val_pred = month_classifier1.predict(X_val)\n",
    "val_accuracy = month_classifier1.score(X_val, y_val)\n",
    "print(\"validation accur score:\", val_accuracy)\n",
    "\n",
    "y_test_pred = month_classifier1.predict(X_test)\n",
    "test_accuracy = month_classifier1.score(X_test, y_test)\n",
    "print(\"test accur score:\", test_accuracy)\n"
   ]
  },
  {
   "cell_type": "markdown",
   "id": "752fd8d6-680a-4f8d-ab61-f45843e3dab4",
   "metadata": {},
   "source": [
    "- for this try, alpha=0 gets me training score: 0.8587196467991169, validation accur score: 0.8688524590163934 and test accur score: 0.7777777777777778\n",
    "- 0.1 gets me training score: 0.8631346578366446, validation accur score: 0.8524590163934426 and test accur score: 0.7777777777778\n",
    "- 0.2 --> training score: 0.8587196467991169, validation accur score: 0.8524590163934426 and test accur score: 0.7777777777778\n",
    "- 0.3 --> training score: 0.8543046357615894, validation accur score: 0.8524590163934426 and test accur score: 0.7888888888888889\n",
    "- 0.4 --> same ^\n",
    "- 0.5 --> same ^\n",
    "- 0.6 --> same ^\n",
    "- 0.7 --> same ^\n",
    "- 0.8 --> same ^\n",
    "- 0.9 --> same ^\n",
    "- 1.0 --> same ^\n",
    "\n",
    "so alpha = 0.1 is best fit for training data\n",
    "\n",
    "alpha = 0.0 gets the best validation set fit\n",
    "\n",
    "alpha = 0.3-1.0 get the best accuracy of the model on the test set (but only by like 0.01) \n",
    "\n",
    "worst overall is alpha = .3 - 1 for training data and alpha = 0-.2 for test set. Validation set only better w 0.0. .1-1 is same"
   ]
  },
  {
   "cell_type": "markdown",
   "id": "6bbc7ab9-5754-4d0c-a341-5b617a69cc6b",
   "metadata": {},
   "source": [
    "# redoing splits to see if values are diff"
   ]
  },
  {
   "cell_type": "code",
   "execution_count": 20,
   "id": "f3cb96a6-386d-4789-985b-86f5266db15c",
   "metadata": {},
   "outputs": [],
   "source": [
    "# try 2\n",
    "\n",
    "# temporary training and remaining instead of train and test, remaining will be what i then pull the next stuff from\n",
    "X_train2, X_temp_remaining2, y_train2, y_temp_remaining2 = train_test_split(X, y, test_size=0.25)\n",
    "\n",
    "# Split the remaining data into testing and validation sets\n",
    "X_test2, X_val2, y_test2, y_val2 = train_test_split(X_temp_remaining2, y_temp_remaining2, test_size=0.4)"
   ]
  },
  {
   "cell_type": "code",
   "execution_count": 21,
   "id": "f8bb9291-7e82-4d8b-9c79-142d03bdf002",
   "metadata": {},
   "outputs": [
    {
     "name": "stdout",
     "output_type": "stream",
     "text": [
      "training accur score: 0.8454746136865342\n",
      "validation accur score: 0.9016393442622951\n",
      "test accur score: 0.8\n"
     ]
    }
   ],
   "source": [
    "month_classifier2 = RidgeClassifier(alpha=1.0)\n",
    "month_classifier2.fit(X_train2, y_train2)\n",
    "\n",
    "month_classifier2.score(X_train2, y_train2)\n",
    "train_accuracy2 = month_classifier2.score(X_train2, y_train2)\n",
    "print(\"training accur score:\", train_accuracy2)\n",
    "\n",
    "y_val_pred2 = month_classifier2.predict(X_val2)\n",
    "val_accuracy2 = month_classifier2.score(X_val2, y_val2)\n",
    "print(\"validation accur score:\", val_accuracy2)\n",
    "\n",
    "y_test_pred2 = month_classifier2.predict(X_test2)\n",
    "test_accuracy2 = month_classifier2.score(X_test2, y_test2)\n",
    "print(\"test accur score:\", test_accuracy2)"
   ]
  },
  {
   "cell_type": "markdown",
   "id": "36ca55bf-ef5d-4d0f-af8b-d9a9b86f214c",
   "metadata": {},
   "source": [
    "- for this try, alpha=0 gets me training score: 0.847682119205298, validation accur score: 0.8524590163934426 and test accur score: 0.8666666666666667\n",
    "- 0.1 gets me training score: 0.8454746136865342, validation accur score: 0.8360655737704918 and test accur score: 0.8888888888888888\n",
    "- 0.2 --> same ^\n",
    "- 0.3 --> same ^\n",
    "- 0.4 --> training score: 0.8498896247240618, validation accur score: 0.8360655737704918 and test accur score: 0.8888888888888888\n",
    "- 0.5 --> same ^\n",
    "- 0.6 --> same ^\n",
    "- 0.7 --> same ^\n",
    "- 0.8 --> same ^\n",
    "- 0.9 --> same ^\n",
    "- 1.0 --> same ^\n",
    "\n",
    "so alpha = 0.1 is still best fit for training data\n",
    "\n",
    "alpha = 0.0 still gets the best validation set fit\n",
    "\n",
    "alpha = 0.1-1.0 get the best accuracy of the model on the test set not by much \n",
    "\n",
    "worst overall is alpha = .1 - 1 "
   ]
  },
  {
   "cell_type": "markdown",
   "id": "bf99ef2f-ccb6-4e1f-b9bd-084187be63e3",
   "metadata": {},
   "source": [
    "# logistic regression "
   ]
  },
  {
   "cell_type": "code",
   "execution_count": 22,
   "id": "96377341-be3b-4795-b962-187f16e125b7",
   "metadata": {},
   "outputs": [
    {
     "name": "stdout",
     "output_type": "stream",
     "text": [
      "train accur score: 0.8741721854304636\n",
      "validation accur score: 0.8688524590163934\n",
      "test accur score: 0.8555555555555555\n"
     ]
    }
   ],
   "source": [
    "logreg = LogisticRegression()  \n",
    "logreg.fit(X_train, y_train)\n",
    "\n",
    "train_accuracy = logreg.score(X_train, y_train)\n",
    "print(\"train accur score:\", train_accuracy)\n",
    "\n",
    "y_val_pred = logreg.predict(X_val)\n",
    "val_accuracy = logreg.score(X_val, y_val)\n",
    "print(\"validation accur score:\", val_accuracy)\n",
    "\n",
    "y_test_pred = logreg.predict(X_test)\n",
    "test_accuracy = logreg.score(X_test, y_test)\n",
    "print(\"test accur score:\", test_accuracy)"
   ]
  },
  {
   "cell_type": "code",
   "execution_count": null,
   "id": "ff66ed36-f14c-40a4-abf2-1e39d95448d2",
   "metadata": {},
   "outputs": [],
   "source": []
  }
 ],
 "metadata": {
  "kernelspec": {
   "display_name": "Python 3 (ipykernel)",
   "language": "python",
   "name": "python3"
  },
  "language_info": {
   "codemirror_mode": {
    "name": "ipython",
    "version": 3
   },
   "file_extension": ".py",
   "mimetype": "text/x-python",
   "name": "python",
   "nbconvert_exporter": "python",
   "pygments_lexer": "ipython3",
   "version": "3.11.4"
  }
 },
 "nbformat": 4,
 "nbformat_minor": 5
}
